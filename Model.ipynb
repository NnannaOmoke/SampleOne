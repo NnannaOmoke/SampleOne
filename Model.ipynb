{
 "cells": [
  {
   "attachments": {},
   "cell_type": "markdown",
   "metadata": {},
   "source": [
    "Import Libraries"
   ]
  },
  {
   "cell_type": "code",
   "execution_count": 1,
   "metadata": {},
   "outputs": [],
   "source": [
    "import numpy as np;\n",
    "import pandas as pan;\n",
    "from sklearn.linear_model import LinearRegression;\n",
    "from sklearn.model_selection import train_test_split;\n",
    "from sklearn.preprocessing import StandardScaler;\n",
    "import statsmodels.api as stata;\n",
    "import matplotlib.pyplot as plotter;\n",
    "import seaborn as sns;"
   ]
  },
  {
   "attachments": {},
   "cell_type": "markdown",
   "metadata": {},
   "source": [
    "Configure Settings"
   ]
  },
  {
   "cell_type": "code",
   "execution_count": 2,
   "metadata": {},
   "outputs": [],
   "source": [
    "sns.set_theme();"
   ]
  },
  {
   "attachments": {},
   "cell_type": "markdown",
   "metadata": {},
   "source": [
    "Load Data"
   ]
  },
  {
   "cell_type": "code",
   "execution_count": 11,
   "metadata": {},
   "outputs": [
    {
     "name": "stdout",
     "output_type": "stream",
     "text": [
      "           Brand    Price       Body  Mileage  EngineV Engine Type   \n",
      "0            BMW   4200.0      sedan      277      2.0      Petrol  \\\n",
      "1  Mercedes-Benz   7900.0        van      427      2.9      Diesel   \n",
      "2  Mercedes-Benz  13300.0      sedan      358      5.0         Gas   \n",
      "3           Audi  23000.0  crossover      240      4.2      Petrol   \n",
      "4         Toyota  18300.0  crossover      120      2.0      Petrol   \n",
      "\n",
      "  Registration  Year         Model  \n",
      "0          yes  1991           320  \n",
      "1          yes  1999  Sprinter 212  \n",
      "2          yes  2003         S 500  \n",
      "3          yes  2007            Q7  \n",
      "4          yes  2011         Rav 4  \n",
      "             Brand          Price   Body      Mileage      EngineV   \n",
      "count         4345    4173.000000   4345  4345.000000  4195.000000  \\\n",
      "unique           7            NaN      6          NaN          NaN   \n",
      "top     Volkswagen            NaN  sedan          NaN          NaN   \n",
      "freq           936            NaN   1649          NaN          NaN   \n",
      "mean           NaN   19418.746935    NaN   161.237284     2.790734   \n",
      "std            NaN   25584.242620    NaN   105.705797     5.066437   \n",
      "min            NaN     600.000000    NaN     0.000000     0.600000   \n",
      "25%            NaN    6999.000000    NaN    86.000000     1.800000   \n",
      "50%            NaN   11500.000000    NaN   155.000000     2.200000   \n",
      "75%            NaN   21700.000000    NaN   230.000000     3.000000   \n",
      "max            NaN  300000.000000    NaN   980.000000    99.990000   \n",
      "\n",
      "       Engine Type Registration         Year    Model  \n",
      "count         4345         4345  4345.000000     4345  \n",
      "unique           4            2          NaN      312  \n",
      "top         Diesel          yes          NaN  E-Class  \n",
      "freq          2019         3947          NaN      199  \n",
      "mean           NaN          NaN  2006.550058      NaN  \n",
      "std            NaN          NaN     6.719097      NaN  \n",
      "min            NaN          NaN  1969.000000      NaN  \n",
      "25%            NaN          NaN  2003.000000      NaN  \n",
      "50%            NaN          NaN  2008.000000      NaN  \n",
      "75%            NaN          NaN  2012.000000      NaN  \n",
      "max            NaN          NaN  2016.000000      NaN  \n",
      "             Brand          Price   Body      Mileage      EngineV   \n",
      "count         4345    4173.000000   4345  4345.000000  4195.000000  \\\n",
      "unique           7            NaN      6          NaN          NaN   \n",
      "top     Volkswagen            NaN  sedan          NaN          NaN   \n",
      "freq           936            NaN   1649          NaN          NaN   \n",
      "mean           NaN   19418.746935    NaN   161.237284     2.790734   \n",
      "std            NaN   25584.242620    NaN   105.705797     5.066437   \n",
      "min            NaN     600.000000    NaN     0.000000     0.600000   \n",
      "25%            NaN    6999.000000    NaN    86.000000     1.800000   \n",
      "50%            NaN   11500.000000    NaN   155.000000     2.200000   \n",
      "75%            NaN   21700.000000    NaN   230.000000     3.000000   \n",
      "max            NaN  300000.000000    NaN   980.000000    99.990000   \n",
      "\n",
      "       Engine Type Registration         Year  \n",
      "count         4345         4345  4345.000000  \n",
      "unique           4            2          NaN  \n",
      "top         Diesel          yes          NaN  \n",
      "freq          2019         3947          NaN  \n",
      "mean           NaN          NaN  2006.550058  \n",
      "std            NaN          NaN     6.719097  \n",
      "min            NaN          NaN  1969.000000  \n",
      "25%            NaN          NaN  2003.000000  \n",
      "50%            NaN          NaN  2008.000000  \n",
      "75%            NaN          NaN  2012.000000  \n",
      "max            NaN          NaN  2016.000000  \n",
      "Brand             0\n",
      "Price           172\n",
      "Body              0\n",
      "Mileage           0\n",
      "EngineV         150\n",
      "Engine Type       0\n",
      "Registration      0\n",
      "Year              0\n",
      "dtype: int64\n",
      "\n",
      "\n",
      "\n",
      "\n",
      "                Price      Mileage      EngineV         Year\n",
      "count    4025.000000  4025.000000  4025.000000  4025.000000\n",
      "mean    19552.308065   163.572174     2.764586  2006.379627\n",
      "std     25815.734988   103.394703     4.935941     6.695595\n",
      "min       600.000000     0.000000     0.600000  1969.000000\n",
      "25%      6999.000000    90.000000     1.800000  2003.000000\n",
      "50%     11500.000000   158.000000     2.200000  2007.000000\n",
      "75%     21900.000000   230.000000     3.000000  2012.000000\n",
      "max    300000.000000   980.000000    99.990000  2016.000000\n"
     ]
    }
   ],
   "source": [
    "matrix_data = pan.read_csv(\"Dataset.csv\");\n",
    "print(matrix_data.head(5));\n",
    "print(matrix_data.describe(include = \"all\"));\n",
    "#since certain datasets do not make sense to be included in the model, we shall drop them\n",
    "matrix_data = matrix_data.drop([\"Model\"], axis = 1);\n",
    "print(matrix_data.describe(include = \"all\"));\n",
    "print(matrix_data.isnull().sum());\n",
    "complete_matrix_data = matrix_data.dropna(axis = 0);#drops rows with missing values\n",
    "print(\"\\n\\n\\n\\n\",complete_matrix_data.describe());"
   ]
  },
  {
   "attachments": {},
   "cell_type": "markdown",
   "metadata": {},
   "source": [
    "Distribution Functions"
   ]
  },
  {
   "cell_type": "code",
   "execution_count": 15,
   "metadata": {},
   "outputs": [
    {
     "data": {
      "image/png": "[encoded data removed]",
      "text/plain": [
       "<Figure size 500x500 with 1 Axes>"
      ]
     },
     "metadata": {},
     "output_type": "display_data"
    }
   ],
   "source": [
    "sns.displot(complete_matrix_data[\"Price\"]);\n"
   ]
  }
 ],
 "metadata": {
  "kernelspec": {
   "display_name": "Python 3",
   "language": "python",
   "name": "python3"
  },
  "language_info": {
   "codemirror_mode": {
    "name": "ipython",
    "version": 3
   },
   "file_extension": ".py",
   "mimetype": "text/x-python",
   "name": "python",
   "nbconvert_exporter": "python",
   "pygments_lexer": "ipython3",
   "version": "3.11.2"
  },
  "orig_nbformat": 4
 },
 "nbformat": 4,
 "nbformat_minor": 2
}
